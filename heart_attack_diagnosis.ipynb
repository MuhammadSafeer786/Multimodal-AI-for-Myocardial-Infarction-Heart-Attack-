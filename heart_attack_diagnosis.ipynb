{
  "nbformat": 4,
  "nbformat_minor": 0,
  "metadata": {
    "colab": {
      "provenance": [],
      "authorship_tag": "ABX9TyO/vcXIyTJfFmiCjrWv9SYG",
      "include_colab_link": true
    },
    "kernelspec": {
      "name": "python3",
      "display_name": "Python 3"
    },
    "language_info": {
      "name": "python"
    }
  },
  "cells": [
    {
      "cell_type": "markdown",
      "metadata": {
        "id": "view-in-github",
        "colab_type": "text"
      },
      "source": [
        "<a href=\"https://colab.research.google.com/github/MuhammadSafeer786/Multimodal-AI-for-Myocardial-Infarction-or-Heart-Attack/blob/main/heart_attack_diagnosis.ipynb\" target=\"_parent\"><img src=\"https://colab.research.google.com/assets/colab-badge.svg\" alt=\"Open In Colab\"/></a>"
      ]
    },
    {
      "cell_type": "markdown",
      "source": [
        "# Creating Datasets\n",
        "Planning to concatenate these datasets for hopefully creating a bigger ECG Dataset:\n",
        "\n",
        "* Ch. Pervaiz Elahi Institute of Cardiology: https://data.mendeley.com/datasets/gwbz3fsgp8/2\n",
        "* ECG-Image-Database: https://arxiv.org/abs/2409.16612\n",
        "* PhysioNet: https://physionet.org/about/database/\n",
        "  * PhysioNet Challenge 2017\n",
        "  \n",
        "  * PTB Diagnostic ECG Database\n",
        "\n",
        "  * PhysioNet/Computing in Cardiology Challenge Datasets\n",
        "  \n",
        "  * MIMIC-III Waveform Database\n",
        "  \n",
        "  * Cardiology Challenge 2020 Database\n",
        "\n",
        "For Textual Data MIMIC-IV: https://www.kaggle.com/datasets/dipthith/data-dc"
      ],
      "metadata": {
        "id": "Ssx-XwUI7o82"
      }
    },
    {
      "cell_type": "code",
      "source": [],
      "metadata": {
        "id": "-5JEhxm7HT9t"
      },
      "execution_count": null,
      "outputs": []
    }
  ]
}