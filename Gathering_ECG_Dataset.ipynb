{
  "nbformat": 4,
  "nbformat_minor": 0,
  "metadata": {
    "colab": {
      "provenance": [],
      "gpuType": "T4",
      "mount_file_id": "1iV1sr82YTPym7IwbEcu8weUCyzlNsiRl",
      "authorship_tag": "ABX9TyMXyQpLoXSEohkdfQEErR6H",
      "include_colab_link": true
    },
    "kernelspec": {
      "name": "python3",
      "display_name": "Python 3"
    },
    "language_info": {
      "name": "python"
    },
    "accelerator": "GPU"
  },
  "cells": [
    {
      "cell_type": "markdown",
      "metadata": {
        "id": "view-in-github",
        "colab_type": "text"
      },
      "source": [
        "<a href=\"https://colab.research.google.com/github/MuhammadSafeer786/Multimodal-AI-for-Myocardial-Infarction-or-Heart-Attack/blob/main/Gathering_ECG_Dataset.ipynb\" target=\"_parent\"><img src=\"https://colab.research.google.com/assets/colab-badge.svg\" alt=\"Open In Colab\"/></a>"
      ]
    },
    {
      "cell_type": "markdown",
      "source": [
        "# Gathering Initial ECG Dataset\n"
      ],
      "metadata": {
        "id": "uBH12K5Yc77m"
      }
    },
    {
      "cell_type": "markdown",
      "source": [
        "Using some images from this dataset: https://www.kaggle.com/datasets/jayaprakashpondy/ecgimages"
      ],
      "metadata": {
        "id": "zcsQ1IQiLKiA"
      }
    },
    {
      "cell_type": "markdown",
      "source": [
        "# Preprocessing\n",
        "Used the follwing script to Remove All Background"
      ],
      "metadata": {
        "id": "dDqDJJtkJWP7"
      }
    },
    {
      "cell_type": "code",
      "source": [
        "import cv2\n",
        "import numpy as np\n",
        "import os\n",
        "from skimage.morphology import skeletonize\n",
        "\n",
        "\n",
        "def imshow(img, name):\n",
        "    cv2.imshow(f'{name}', img)\n",
        "    cv2.waitKey(0)\n",
        "    cv2.destroyAllWindows()\n",
        "\n",
        "\n",
        "def ECGtoWave(image):\n",
        "    blurred = cv2.GaussianBlur(image, (5, 5), 0)\n",
        "    edges = cv2.Canny(blurred, threshold1=50, threshold2=150)\n",
        "    kernel = cv2.getStructuringElement(cv2.MORPH_ELLIPSE, (8, 8))\n",
        "    dilated = cv2.dilate(edges, kernel, iterations=1)\n",
        "    eroded = cv2.erode(dilated, kernel, iterations=1)\n",
        "    return eroded\n",
        "\n",
        "\n",
        "def ECGtoWave2(image):\n",
        "    _, binary = cv2.threshold(image, 35, 255, cv2.THRESH_BINARY)\n",
        "    return binary\n",
        "\n",
        "\n",
        "def Preprocess(input_dir, output_dir):\n",
        "    img_list = os.listdir(input_dir)\n",
        "    for img in img_list:\n",
        "        image = cv2.imread(f'{input_dir}\\{img}', cv2.IMREAD_GRAYSCALE)\n",
        "        cleaned = ECGtoWave2(image)\n",
        "        cv2.imwrite(f\"{output_dir}\\{img}\", cleaned)\n",
        "\n",
        "\n",
        "\n",
        "\n",
        "\n",
        "if __name__ == '__main__':\n",
        "    Preprocess(r'\\\\ECG_Data\\test\\MI',               # Replace with your own path\n",
        "               r'\\\\ECG\\ECG_Data\\test_cleaned\\MI')   # Replace with your own path\n"
      ],
      "metadata": {
        "id": "Ow-zSXARJmDj"
      },
      "execution_count": null,
      "outputs": []
    },
    {
      "cell_type": "markdown",
      "source": [
        "# Annotated on Roboflow\n"
      ],
      "metadata": {
        "id": "lshqKwsEKOzQ"
      }
    },
    {
      "cell_type": "markdown",
      "source": [
        "ECG for MI > 2024-12-29 8:38pm\n",
        "\n",
        "https://universe.roboflow.com/ecg-ziwon/ecg-for-mi\n",
        "\n",
        "Provided by a Roboflow user\n",
        "\n",
        "License: CC BY 4.0"
      ],
      "metadata": {
        "id": "qJ6wiHv5LHvD"
      }
    },
    {
      "cell_type": "markdown",
      "source": [
        "# Exploring Dataset"
      ],
      "metadata": {
        "id": "gDnLx8U6wkU6"
      }
    },
    {
      "cell_type": "code",
      "source": [
        "! mkdir /content/drive/MyDrive/FeaturedProjects/ECG_Dataset"
      ],
      "metadata": {
        "id": "IbsW0Kg4c-Qf"
      },
      "execution_count": null,
      "outputs": []
    },
    {
      "cell_type": "code",
      "source": [
        "!mv /content/ECG_MI_coco.zip /content/drive/MyDrive/FeaturedProjects/ECG_Dataset\n"
      ],
      "metadata": {
        "id": "pbr5tA_lhGxP"
      },
      "execution_count": 1,
      "outputs": []
    },
    {
      "cell_type": "code",
      "source": [
        "!unzip /content/drive/MyDrive/FeaturedProjects/ECG_Dataset/ECG_MI_coco.zip -d /content/"
      ],
      "metadata": {
        "id": "Ea2gulCsjL4s",
        "colab": {
          "base_uri": "https://localhost:8080/"
        },
        "outputId": "bf4ad3a9-768b-4606-dcd8-f2aca190b3e8"
      },
      "execution_count": 4,
      "outputs": [
        {
          "output_type": "stream",
          "name": "stdout",
          "text": [
            "Archive:  /content/drive/MyDrive/FeaturedProjects/ECG_Dataset/ECG_MI_coco.zip\n",
            "  inflating: /content/README.dataset.txt  \n",
            "  inflating: /content/README.roboflow.txt  \n",
            "   creating: /content/test/\n",
            " extracting: /content/test/MI-42-_jpg.rf.f5bcf6146ae58dd64609a1df7ccb0080.jpg  \n",
            " extracting: /content/test/MI-54-_jpg.rf.778a84e9875955cb75289c4dfc197c3e.jpg  \n",
            " extracting: /content/test/MI-60-_jpg.rf.f6cbe3abaedbecfeec189c0bb33576b0.jpg  \n",
            " extracting: /content/test/Normal-36-_jpg.rf.f2930f921808dce3d78cb81b3506116f.jpg  \n",
            " extracting: /content/test/Normal-37-_jpg.rf.283332212718e10915a8a4bf7d2c467c.jpg  \n",
            " extracting: /content/test/Normal-57-_jpg.rf.221f37d60dfd1d3e8552410be436da67.jpg  \n",
            "  inflating: /content/test/_annotations.coco.json  \n",
            "   creating: /content/train/\n",
            " extracting: /content/train/MI-31-_jpg.rf.0861034f3893a842bda9cc0b5dc5794c.jpg  \n",
            " extracting: /content/train/MI-31-_jpg.rf.b246bac1b42254a70b62f405dcfe54e5.jpg  \n",
            " extracting: /content/train/MI-31-_jpg.rf.f3f854e91f4df7ba8cc887e92a370e20.jpg  \n",
            " extracting: /content/train/MI-32-_jpg.rf.2b3ae017060936059941145b59651617.jpg  \n",
            " extracting: /content/train/MI-32-_jpg.rf.cd01f52dcec273db738ec9e264f13164.jpg  \n",
            " extracting: /content/train/MI-32-_jpg.rf.da9f6b7361a53b48f936d4a0e8743671.jpg  \n",
            " extracting: /content/train/MI-33-_jpg.rf.41f2791d767829614aa5b68c5419a651.jpg  \n",
            " extracting: /content/train/MI-33-_jpg.rf.56b8c8b15c9149e809122810e67fea79.jpg  \n",
            " extracting: /content/train/MI-33-_jpg.rf.96e6b7f833683821578dc6fc0cf39167.jpg  \n",
            " extracting: /content/train/MI-34-_jpg.rf.0eb7eb64c6547c46aedf2b80776f1dc1.jpg  \n",
            " extracting: /content/train/MI-34-_jpg.rf.891971b5a6bec5f8af8b441dcdc7bc36.jpg  \n",
            " extracting: /content/train/MI-34-_jpg.rf.dc7fb55072931081eec0e5d033d18065.jpg  \n",
            " extracting: /content/train/MI-35-_jpg.rf.33298191d56e9afc6bddccad783b83e0.jpg  \n",
            " extracting: /content/train/MI-35-_jpg.rf.d0c78f86962eea5ac334f1638c84b781.jpg  \n",
            " extracting: /content/train/MI-35-_jpg.rf.d46dffc00f656983bb61ead2d3e54706.jpg  \n",
            " extracting: /content/train/MI-36-_jpg.rf.026031fa520e836808366f31975d78ae.jpg  \n",
            " extracting: /content/train/MI-36-_jpg.rf.251f0665ebea1cb2b78966e83ff48876.jpg  \n",
            " extracting: /content/train/MI-36-_jpg.rf.b650b8f8541f79604a8668a1bfad1560.jpg  \n",
            " extracting: /content/train/MI-38-_jpg.rf.26ca26c03d05a4a86f62c8f8e199c469.jpg  \n",
            " extracting: /content/train/MI-38-_jpg.rf.8d6cf6ad357c61cf553c3b2c19234382.jpg  \n",
            " extracting: /content/train/MI-38-_jpg.rf.fef1e7d53390ba1f61535532bcd128a8.jpg  \n",
            " extracting: /content/train/MI-39-_jpg.rf.7802ef72a649b21d55d916c4f70f9c52.jpg  \n",
            " extracting: /content/train/MI-39-_jpg.rf.c3aa5cb983bf67a920f3c63db346db8b.jpg  \n",
            " extracting: /content/train/MI-39-_jpg.rf.dbbde0657121c7af7d322b94a7292ec4.jpg  \n",
            " extracting: /content/train/MI-40-_jpg.rf.b2c70195b18a4bb4d4235126dbcb3605.jpg  \n",
            " extracting: /content/train/MI-40-_jpg.rf.bbc66f9c2fc81ddb29af66b45d77d6d1.jpg  \n",
            " extracting: /content/train/MI-40-_jpg.rf.d2f0619cb2ab4a984e3af26c7ddbaac9.jpg  \n",
            " extracting: /content/train/MI-41-_jpg.rf.1e0bf75e77e2d2049bcb590c05972ac9.jpg  \n",
            " extracting: /content/train/MI-41-_jpg.rf.4e1de9ebeb3296b54afb1bab9109bc47.jpg  \n",
            " extracting: /content/train/MI-41-_jpg.rf.698344a530edaa87650d3b35d611b2ed.jpg  \n",
            " extracting: /content/train/MI-43-_jpg.rf.6afcd87b1a3da74d2983c6136b9f49ed.jpg  \n",
            " extracting: /content/train/MI-43-_jpg.rf.6d09e5d334c3a0401c3141422dfb3dd4.jpg  \n",
            " extracting: /content/train/MI-43-_jpg.rf.e7ea56e466f241663407e6a6f4026186.jpg  \n",
            " extracting: /content/train/MI-44-_jpg.rf.541899ae385a290f52eaf420507c1319.jpg  \n",
            " extracting: /content/train/MI-44-_jpg.rf.7ece6317d3b55ca302fb1cfe4de20479.jpg  \n",
            " extracting: /content/train/MI-44-_jpg.rf.a1fe09cc1eb4892d2ed74d92d3a40f78.jpg  \n",
            " extracting: /content/train/MI-45-_jpg.rf.81ef779a1010f6c7600cd3f80b2e6961.jpg  \n",
            " extracting: /content/train/MI-45-_jpg.rf.c303247d1d92e703c77561dfd79da57b.jpg  \n",
            " extracting: /content/train/MI-45-_jpg.rf.c6e41d7845375076dbebeae5d3998099.jpg  \n",
            " extracting: /content/train/MI-46-_jpg.rf.2280c3ca0f6cc8d19618a814b5197bdd.jpg  \n",
            " extracting: /content/train/MI-46-_jpg.rf.94fccf801052aa03c4b334354139e26c.jpg  \n",
            " extracting: /content/train/MI-46-_jpg.rf.c0da2529871d063c7f2d922d3ee182f2.jpg  \n",
            " extracting: /content/train/MI-47-_jpg.rf.0a661efe60bec3a4a404c46f760076da.jpg  \n",
            " extracting: /content/train/MI-47-_jpg.rf.95ae7cab0bee14e97952784ff562fe28.jpg  \n",
            " extracting: /content/train/MI-47-_jpg.rf.f5b0375c9de71232b4a07fa72e2fa21a.jpg  \n",
            " extracting: /content/train/MI-48-_jpg.rf.0e614e01591b2ebb3bfa935ce3ced4e2.jpg  \n",
            " extracting: /content/train/MI-48-_jpg.rf.893926146b3cbffea6d693ce6ccffa49.jpg  \n",
            " extracting: /content/train/MI-48-_jpg.rf.b5234c0cd694ca504b59b26e8cdbca9a.jpg  \n",
            " extracting: /content/train/MI-49-_jpg.rf.21cbec1dcfa2624b7028e74347c1e613.jpg  \n",
            " extracting: /content/train/MI-49-_jpg.rf.4bfd4722f6d26eadc039e0e6a23c5421.jpg  \n",
            " extracting: /content/train/MI-49-_jpg.rf.c0fffde707d94d01bd5cd4fe1330f622.jpg  \n",
            " extracting: /content/train/MI-50-_jpg.rf.284e2371a6410a795cb3098f63214233.jpg  \n",
            " extracting: /content/train/MI-50-_jpg.rf.80fe3f1e58ffda40c9706a2c103ac681.jpg  \n",
            " extracting: /content/train/MI-50-_jpg.rf.fc8774d0693aadd31fd1f8dff7b4ea8c.jpg  \n",
            " extracting: /content/train/MI-51-_jpg.rf.6de497090b2f560c372389ed5d815bd2.jpg  \n",
            " extracting: /content/train/MI-51-_jpg.rf.82e3127ba22bace476a3a74995288c46.jpg  \n",
            " extracting: /content/train/MI-51-_jpg.rf.ee746d5df0edf3a9d23eba0589afedc5.jpg  \n",
            " extracting: /content/train/MI-52-_jpg.rf.056c6637002b41e65b7a81de76d2ef74.jpg  \n",
            " extracting: /content/train/MI-52-_jpg.rf.5dd2e7b8ce10298c8d71e12d37bc4099.jpg  \n",
            " extracting: /content/train/MI-52-_jpg.rf.d5c41be0b3da943363c53de2fb96ed8d.jpg  \n",
            " extracting: /content/train/MI-53-_jpg.rf.5cf3dd0ac1438dcc8821b5256a890490.jpg  \n",
            " extracting: /content/train/MI-53-_jpg.rf.b914aeafb9df05ebe1e6665f0694cc7b.jpg  \n",
            " extracting: /content/train/MI-53-_jpg.rf.b94b5b822fe72ad76d385053c7a13014.jpg  \n",
            " extracting: /content/train/MI-56-_jpg.rf.131d8f68fd62ba7c1f97ace2be2169e5.jpg  \n",
            " extracting: /content/train/MI-56-_jpg.rf.54b446bda5992b2f187d2bc33d8b2562.jpg  \n",
            " extracting: /content/train/MI-56-_jpg.rf.85b2ad6b05be61b0fa5d89b24a595789.jpg  \n",
            " extracting: /content/train/MI-58-_jpg.rf.8aa364d566b68de1ef8dfd703f8ecf64.jpg  \n",
            " extracting: /content/train/MI-58-_jpg.rf.df16a701025800caa261412a1ca87e3b.jpg  \n",
            " extracting: /content/train/MI-58-_jpg.rf.f097d142da28e7fc2e50156a52d3b110.jpg  \n",
            " extracting: /content/train/MI-59-_jpg.rf.17676f751c638a0f10b56c6e280b9dfc.jpg  \n",
            " extracting: /content/train/MI-59-_jpg.rf.89cbc6421318763d8a40a20b871e9d3e.jpg  \n",
            " extracting: /content/train/MI-59-_jpg.rf.c70373c025bba589ac3ec801759d39e9.jpg  \n",
            " extracting: /content/train/Normal-31-_jpg.rf.5f426fe179fe60e6d7aadcaa83f2b17f.jpg  \n",
            " extracting: /content/train/Normal-31-_jpg.rf.a5994351cfa7a117b02ab25053ff83fb.jpg  \n",
            " extracting: /content/train/Normal-31-_jpg.rf.ca4e7ed5b64cac6613ff182d96c74465.jpg  \n",
            " extracting: /content/train/Normal-32-_jpg.rf.0da4920375540c9fd568342d9cab2036.jpg  \n",
            " extracting: /content/train/Normal-32-_jpg.rf.73afdb7f78058651ff4d23fcbbf425f6.jpg  \n",
            " extracting: /content/train/Normal-32-_jpg.rf.a8a251c2164b96b548c2dc77edf09e83.jpg  \n",
            " extracting: /content/train/Normal-33-_jpg.rf.4600bf7598d217a555f902654683e339.jpg  \n",
            " extracting: /content/train/Normal-33-_jpg.rf.4f6b7b3c617afed57d54df7bd40c4b55.jpg  \n",
            " extracting: /content/train/Normal-33-_jpg.rf.71ee85597fb2822d6d1dd4f123368f9f.jpg  \n",
            " extracting: /content/train/Normal-34-_jpg.rf.0925af93d0b8313807a18f9baa91e535.jpg  \n",
            " extracting: /content/train/Normal-34-_jpg.rf.3ce407a9c4ee8caad230ccc12c2428bb.jpg  \n",
            " extracting: /content/train/Normal-34-_jpg.rf.b4f0b0b36d749cea09139dea55711dcc.jpg  \n",
            " extracting: /content/train/Normal-38-_jpg.rf.720f916f59f03c524f5e74235c93a844.jpg  \n",
            " extracting: /content/train/Normal-38-_jpg.rf.7597eb382932c6e4f030d751372a7de9.jpg  \n",
            " extracting: /content/train/Normal-38-_jpg.rf.b886e40bcad94c2fb327bcfad1245e54.jpg  \n",
            " extracting: /content/train/Normal-39-_jpg.rf.2780d2b01db0c183aa77a7094058261a.jpg  \n",
            " extracting: /content/train/Normal-39-_jpg.rf.382c2cbf65dd48acebe9951b2e0e3002.jpg  \n",
            " extracting: /content/train/Normal-39-_jpg.rf.a7feab430cd595adcc5cab9aea722957.jpg  \n",
            " extracting: /content/train/Normal-40-_jpg.rf.3b23a9d106dc92640090cc94e9c23e98.jpg  \n",
            " extracting: /content/train/Normal-40-_jpg.rf.6c0bc3928b074301346992840c95775b.jpg  \n",
            " extracting: /content/train/Normal-40-_jpg.rf.7a9f4c27bb2efe24990fbbe5211538ed.jpg  \n",
            " extracting: /content/train/Normal-41-_jpg.rf.170749e49f8eacf8e6c7467195c49459.jpg  \n",
            " extracting: /content/train/Normal-41-_jpg.rf.38f98eecda436fd08ba9ee8606d8e090.jpg  \n",
            " extracting: /content/train/Normal-41-_jpg.rf.78aea65a6a6566f36ac4f175d4eb8738.jpg  \n",
            " extracting: /content/train/Normal-42-_jpg.rf.6f06bb31a3e542b397444925e5db8029.jpg  \n",
            " extracting: /content/train/Normal-42-_jpg.rf.8385115d27653ec6fbfec96f9ce94211.jpg  \n",
            " extracting: /content/train/Normal-42-_jpg.rf.e5a3a40ed447e3bcb9b78a77da7e298d.jpg  \n",
            " extracting: /content/train/Normal-43-_jpg.rf.52045d714d2364ca46b808dab06616dd.jpg  \n",
            " extracting: /content/train/Normal-43-_jpg.rf.7710090717e93cd69c2995c3e26aec5f.jpg  \n",
            " extracting: /content/train/Normal-43-_jpg.rf.aac948260e8cf93c80462eaec2c3b5e8.jpg  \n",
            " extracting: /content/train/Normal-44-_jpg.rf.744d0d998188d4d3bca15ec5ae24a66c.jpg  \n",
            " extracting: /content/train/Normal-44-_jpg.rf.7452d96d295eed855e902f7b46e0f99e.jpg  \n",
            " extracting: /content/train/Normal-44-_jpg.rf.7cf17228f62c880146922986402da7b0.jpg  \n",
            " extracting: /content/train/Normal-45-_jpg.rf.023703b5cf9c150049c6a41b6b924c14.jpg  \n",
            " extracting: /content/train/Normal-45-_jpg.rf.1b3b3f2c5959f4df7ada8cd5194775a4.jpg  \n",
            " extracting: /content/train/Normal-45-_jpg.rf.f923c061a0d31d1da9e41acc1fb41f44.jpg  \n",
            " extracting: /content/train/Normal-46-_jpg.rf.2cc1fc1a03afd5fc3ba4df3b2d0c93f3.jpg  \n",
            " extracting: /content/train/Normal-46-_jpg.rf.2d7ecb611e515c6cc21b41519001aa18.jpg  \n",
            " extracting: /content/train/Normal-46-_jpg.rf.537ef4eafd317a7dc2f31cb705815812.jpg  \n",
            " extracting: /content/train/Normal-47-_jpg.rf.26394cf1776fd0dd1457047f89335d6d.jpg  \n",
            " extracting: /content/train/Normal-47-_jpg.rf.4d9f6500d0a35595905f060be8183837.jpg  \n",
            " extracting: /content/train/Normal-47-_jpg.rf.731f43c905a142f14b8ed2a177c2da9b.jpg  \n",
            " extracting: /content/train/Normal-48-_jpg.rf.00a53fb5af7f8971dab217bdd232b43e.jpg  \n",
            " extracting: /content/train/Normal-48-_jpg.rf.cad2ad431d943809a9a48dd23c99cb87.jpg  \n",
            " extracting: /content/train/Normal-48-_jpg.rf.eb2b961494425cc8557fcd25f2031ffc.jpg  \n",
            " extracting: /content/train/Normal-49-_jpg.rf.02a27f73e8e31c6fec8e89db9e64d471.jpg  \n",
            " extracting: /content/train/Normal-49-_jpg.rf.46eff970221e27afc8e88f6a6d57c9a1.jpg  \n",
            " extracting: /content/train/Normal-49-_jpg.rf.cd5af82ca68a80c711f9bf76d81afa6b.jpg  \n",
            " extracting: /content/train/Normal-51-_jpg.rf.35865aaca7138796d94df20c897e07f9.jpg  \n",
            " extracting: /content/train/Normal-51-_jpg.rf.747b5236316228d305e235b65f17032a.jpg  \n",
            " extracting: /content/train/Normal-51-_jpg.rf.e7c0a90d23e8c985daee310b15f13bc0.jpg  \n",
            " extracting: /content/train/Normal-52-_jpg.rf.598eda75adfa80a68b4d049b07e768be.jpg  \n",
            " extracting: /content/train/Normal-52-_jpg.rf.791793c0b4175ddc0ce373a229e7acb1.jpg  \n",
            " extracting: /content/train/Normal-52-_jpg.rf.fa5de82b6f927968241daf796c81d561.jpg  \n",
            " extracting: /content/train/Normal-53-_jpg.rf.7f12c6e4f6c1c8b0483010d35f340dd8.jpg  \n",
            " extracting: /content/train/Normal-53-_jpg.rf.96f38e4eca561a6e8d1318333d901731.jpg  \n",
            " extracting: /content/train/Normal-53-_jpg.rf.f0826d314ad28bc6f8739009189b9edf.jpg  \n",
            " extracting: /content/train/Normal-54-_jpg.rf.28327d1e18143d6d3b517a38e498d29f.jpg  \n",
            " extracting: /content/train/Normal-54-_jpg.rf.59480ba397294b9ede1520f0edf841fb.jpg  \n",
            " extracting: /content/train/Normal-54-_jpg.rf.674292fc4ecc80ff783746af134dcbf9.jpg  \n",
            " extracting: /content/train/Normal-56-_jpg.rf.13dbaceab2a9cbf269428c649e4314c5.jpg  \n",
            " extracting: /content/train/Normal-56-_jpg.rf.dfc718c5c5c441726ea5e141b0fa9db7.jpg  \n",
            " extracting: /content/train/Normal-56-_jpg.rf.fce0833eb74b29132a9c52459c0973fa.jpg  \n",
            " extracting: /content/train/Normal-58-_jpg.rf.3deb4d5c79eae41a66cfc2213762d296.jpg  \n",
            " extracting: /content/train/Normal-58-_jpg.rf.4ca0c776743bd1946fd9095a371964a9.jpg  \n",
            " extracting: /content/train/Normal-58-_jpg.rf.fd0607f10729f3e095a5fed0b2d0dc1a.jpg  \n",
            " extracting: /content/train/Normal-59-_jpg.rf.22e267206a17d2f39cdf4695e6352578.jpg  \n",
            " extracting: /content/train/Normal-59-_jpg.rf.3f05a4fc8aa18baf335a9005d6db8142.jpg  \n",
            " extracting: /content/train/Normal-59-_jpg.rf.9f06c7e462a2333cb2531b4ef5e74f43.jpg  \n",
            " extracting: /content/train/Normal-60-_jpg.rf.25db565a44dd833cf4c0d1b776ac8f37.jpg  \n",
            " extracting: /content/train/Normal-60-_jpg.rf.55d23216a5eb2abe7ad84120e0d5a4cb.jpg  \n",
            " extracting: /content/train/Normal-60-_jpg.rf.8bd6774db9323f2a93b8b8f96f8df765.jpg  \n",
            "  inflating: /content/train/_annotations.coco.json  \n",
            "   creating: /content/valid/\n",
            " extracting: /content/valid/MI-37-_jpg.rf.54a21a5d1a6b175c7799a5661bf13233.jpg  \n",
            " extracting: /content/valid/MI-55-_jpg.rf.93a879301f2aa070533b999f9df96b88.jpg  \n",
            " extracting: /content/valid/MI-57-_jpg.rf.ad3ba2b91660c454af9a3a90b911f537.jpg  \n",
            " extracting: /content/valid/Normal-35-_jpg.rf.bf7ee7958f3b8d4c09713aab5ca2a6cf.jpg  \n",
            " extracting: /content/valid/Normal-50-_jpg.rf.e5599e104af73fa35d9845cec9f914b4.jpg  \n",
            " extracting: /content/valid/Normal-55-_jpg.rf.a24e39b0ea4b049528e1c2c0f7999281.jpg  \n",
            "  inflating: /content/valid/_annotations.coco.json  \n"
          ]
        }
      ]
    },
    {
      "cell_type": "code",
      "source": [
        "# Checking no. of files in these directories\n",
        "!ls -1 '/content/train'| wc -l\n",
        "!ls -1 '/content/test'| wc -l\n",
        "!ls -1 '/content/valid'| wc -l"
      ],
      "metadata": {
        "colab": {
          "base_uri": "https://localhost:8080/"
        },
        "id": "7AAuz4morjKj",
        "outputId": "620f5eee-3134-46e0-9207-72cf3b2d4f58"
      },
      "execution_count": 3,
      "outputs": [
        {
          "output_type": "stream",
          "name": "stdout",
          "text": [
            "145\n",
            "7\n",
            "7\n"
          ]
        }
      ]
    },
    {
      "cell_type": "markdown",
      "source": [
        "# Training Faster R-CNN"
      ],
      "metadata": {
        "id": "Ba9F-BdLLcBz"
      }
    },
    {
      "cell_type": "markdown",
      "source": [
        "## Imports"
      ],
      "metadata": {
        "id": "cO1eIpmWPLg_"
      }
    },
    {
      "cell_type": "code",
      "source": [
        "import torch\n",
        "import torchvision\n",
        "from torchvision.transforms import Compose, Resize, ToTensor\n",
        "from torchvision.models.detection.faster_rcnn import FastRCNNPredictor\n",
        "from torch.utils.data import DataLoader\n",
        "from pycocotools.coco import COCO\n",
        "from PIL import Image\n",
        "import os"
      ],
      "metadata": {
        "id": "rRBblyIMO2md"
      },
      "execution_count": 13,
      "outputs": []
    },
    {
      "cell_type": "markdown",
      "source": [
        "## COCO Dataset Loader"
      ],
      "metadata": {
        "id": "YcCxaHbDPJq5"
      }
    },
    {
      "cell_type": "code",
      "source": [
        "class COCODataset(torch.utils.data.Dataset):\n",
        "    def __init__(self, root, annotation_file, transform):\n",
        "        self.root = root\n",
        "        self.coco = COCO(annotation_file)\n",
        "        self.ids = list(self.coco.imgs.keys())\n",
        "        self.transform = transform\n",
        "\n",
        "    def __getitem__(self, idx):\n",
        "        # Load image\n",
        "        image_info = self.images[idx]\n",
        "        image_path = os.path.join(self.root_dir, image_info['file_name'])\n",
        "        image = Image.open(image_path).convert(\"L\")  # Grayscale\n",
        "\n",
        "        # Get annotations for this image\n",
        "        image_id = image_info['id']\n",
        "        annotations = [ann for ann in self.annotations if ann['image_id'] == image_id]\n",
        "\n",
        "        # Prepare bounding boxes and labels\n",
        "        boxes = []\n",
        "        labels = []\n",
        "        for ann in annotations:\n",
        "            x_min, y_min, width, height = ann['bbox']\n",
        "            x_max = x_min + width\n",
        "            y_max = y_min + height\n",
        "            boxes.append([x_min, y_min, x_max, y_max])\n",
        "            labels.append(ann['category_id'])  # Adjust as needed for your categories\n",
        "\n",
        "        # Convert to tensors\n",
        "        boxes = torch.tensor(boxes, dtype=torch.float32)\n",
        "        labels = torch.tensor(labels, dtype=torch.int64)\n",
        "\n",
        "        target = {\n",
        "            \"boxes\": boxes,\n",
        "            \"labels\": labels\n",
        "        }\n",
        "\n",
        "        # Apply transformations\n",
        "        if self.transform:\n",
        "            image = self.transform(image)\n",
        "\n",
        "        return image, target\n",
        "\n",
        "    def __len__(self):\n",
        "        return len(self.ids)\n"
      ],
      "metadata": {
        "id": "gevyf2v1Op6I"
      },
      "execution_count": 25,
      "outputs": []
    },
    {
      "cell_type": "markdown",
      "source": [
        "## Load Dataset in COCO Format"
      ],
      "metadata": {
        "id": "__HxiuWoPuuz"
      }
    },
    {
      "cell_type": "code",
      "source": [
        "transform = Compose([ToTensor()])\n",
        "\n",
        "train_dataset = COCODataset('/content/train', '/content/train/_annotations.coco.json', transform=transform)\n",
        "train_data_loader = DataLoader(train_dataset, batch_size=4, shuffle=True, collate_fn=lambda x: tuple(zip(*x)))\n",
        "\n",
        "test_dataset = COCODataset('/content/test', '/content/test/_annotations.coco.json', transform=transform)\n",
        "test_data_loader = DataLoader(test_dataset, batch_size=4, shuffle=True, collate_fn=lambda x: tuple(zip(*x)))\n",
        "\n",
        "valid_dataset = COCODataset('/content/valid', '/content/valid/_annotations.coco.json', transform=transform)\n",
        "valid_data_loader = DataLoader(valid_dataset, batch_size=4, shuffle=True, collate_fn=lambda x: tuple(zip(*x)))"
      ],
      "metadata": {
        "colab": {
          "base_uri": "https://localhost:8080/"
        },
        "id": "p4tjm0-SOr3Q",
        "outputId": "8e31ce57-d15e-46c7-b893-4c29ac8d6ede"
      },
      "execution_count": 26,
      "outputs": [
        {
          "output_type": "stream",
          "name": "stdout",
          "text": [
            "loading annotations into memory...\n",
            "Done (t=0.00s)\n",
            "creating index...\n",
            "index created!\n",
            "loading annotations into memory...\n",
            "Done (t=0.00s)\n",
            "creating index...\n",
            "index created!\n",
            "loading annotations into memory...\n",
            "Done (t=0.00s)\n",
            "creating index...\n",
            "index created!\n"
          ]
        }
      ]
    },
    {
      "cell_type": "markdown",
      "source": [],
      "metadata": {
        "id": "uxTt1TjYUs4H"
      }
    },
    {
      "cell_type": "markdown",
      "source": [
        "## Load the Pre-trained Model"
      ],
      "metadata": {
        "id": "BbVEcjIWVSii"
      }
    },
    {
      "cell_type": "code",
      "source": [
        "model = torchvision.models.detection.fasterrcnn_resnet50_fpn(pretrained=True)\n",
        "in_features = model.roi_heads.box_predictor.cls_score.in_features\n",
        "model.roi_heads.box_predictor = FastRCNNPredictor(in_features, num_classes=2)"
      ],
      "metadata": {
        "colab": {
          "base_uri": "https://localhost:8080/"
        },
        "id": "oCJpOdGCOry4",
        "outputId": "496bdf72-7f72-4218-896d-3750e6a104b7"
      },
      "execution_count": 6,
      "outputs": [
        {
          "output_type": "stream",
          "name": "stderr",
          "text": [
            "/usr/local/lib/python3.10/dist-packages/torchvision/models/_utils.py:208: UserWarning: The parameter 'pretrained' is deprecated since 0.13 and may be removed in the future, please use 'weights' instead.\n",
            "  warnings.warn(\n",
            "/usr/local/lib/python3.10/dist-packages/torchvision/models/_utils.py:223: UserWarning: Arguments other than a weight enum or `None` for 'weights' are deprecated since 0.13 and may be removed in the future. The current behavior is equivalent to passing `weights=FasterRCNN_ResNet50_FPN_Weights.COCO_V1`. You can also use `weights=FasterRCNN_ResNet50_FPN_Weights.DEFAULT` to get the most up-to-date weights.\n",
            "  warnings.warn(msg)\n",
            "Downloading: \"https://download.pytorch.org/models/fasterrcnn_resnet50_fpn_coco-258fb6c6.pth\" to /root/.cache/torch/hub/checkpoints/fasterrcnn_resnet50_fpn_coco-258fb6c6.pth\n",
            "100%|██████████| 160M/160M [00:01<00:00, 90.7MB/s]\n"
          ]
        }
      ]
    },
    {
      "cell_type": "code",
      "source": [
        "# Device Setup\n",
        "device = torch.device('cuda') if torch.cuda.is_available() else torch.device('cpu')\n",
        "model.to(device)\n",
        "\n",
        "# Optimizer and Learning Rate Scheduler\n",
        "optimizer = torch.optim.SGD(model.parameters(), lr=0.005, momentum=0.9)\n",
        "lr_scheduler = torch.optim.lr_scheduler.StepLR(optimizer, step_size=3, gamma=0.1)\n",
        "\n",
        "# Training Loop\n",
        "num_epochs = 100\n",
        "for epoch in range(num_epochs):\n",
        "    model.train()\n",
        "    epoch_loss = 0\n",
        "    for images, targets in train_data_loader:\n",
        "        images = [img.to(device) for img in images]\n",
        "        targets = [{k: v.to(device) for k, v in t.items()} for t in targets]\n",
        "\n",
        "        # Forward pass\n",
        "        loss_dict = model(images, targets)\n",
        "        losses = sum(loss for loss in loss_dict.values())\n",
        "        epoch_loss += losses.item()\n",
        "\n",
        "        # Backward pass\n",
        "        optimizer.zero_grad()\n",
        "        losses.backward()\n",
        "        optimizer.step()\n",
        "\n",
        "    lr_scheduler.step()\n",
        "    print(f\"Epoch {epoch+1}/{num_epochs}, Loss: {epoch_loss:.4f}\")\n"
      ],
      "metadata": {
        "colab": {
          "base_uri": "https://localhost:8080/",
          "height": 356
        },
        "id": "0ufjCrYBOrwe",
        "outputId": "fb745df6-3b0d-4ef7-b443-ddf4dd1a423f"
      },
      "execution_count": 27,
      "outputs": [
        {
          "output_type": "error",
          "ename": "AttributeError",
          "evalue": "'COCODataset' object has no attribute 'images'",
          "traceback": [
            "\u001b[0;31m---------------------------------------------------------------------------\u001b[0m",
            "\u001b[0;31mAttributeError\u001b[0m                            Traceback (most recent call last)",
            "\u001b[0;32m<ipython-input-27-b9008dc51053>\u001b[0m in \u001b[0;36m<cell line: 11>\u001b[0;34m()\u001b[0m\n\u001b[1;32m     12\u001b[0m     \u001b[0mmodel\u001b[0m\u001b[0;34m.\u001b[0m\u001b[0mtrain\u001b[0m\u001b[0;34m(\u001b[0m\u001b[0;34m)\u001b[0m\u001b[0;34m\u001b[0m\u001b[0;34m\u001b[0m\u001b[0m\n\u001b[1;32m     13\u001b[0m     \u001b[0mepoch_loss\u001b[0m \u001b[0;34m=\u001b[0m \u001b[0;36m0\u001b[0m\u001b[0;34m\u001b[0m\u001b[0;34m\u001b[0m\u001b[0m\n\u001b[0;32m---> 14\u001b[0;31m     \u001b[0;32mfor\u001b[0m \u001b[0mimages\u001b[0m\u001b[0;34m,\u001b[0m \u001b[0mtargets\u001b[0m \u001b[0;32min\u001b[0m \u001b[0mtrain_data_loader\u001b[0m\u001b[0;34m:\u001b[0m\u001b[0;34m\u001b[0m\u001b[0;34m\u001b[0m\u001b[0m\n\u001b[0m\u001b[1;32m     15\u001b[0m         \u001b[0mimages\u001b[0m \u001b[0;34m=\u001b[0m \u001b[0;34m[\u001b[0m\u001b[0mimg\u001b[0m\u001b[0;34m.\u001b[0m\u001b[0mto\u001b[0m\u001b[0;34m(\u001b[0m\u001b[0mdevice\u001b[0m\u001b[0;34m)\u001b[0m \u001b[0;32mfor\u001b[0m \u001b[0mimg\u001b[0m \u001b[0;32min\u001b[0m \u001b[0mimages\u001b[0m\u001b[0;34m]\u001b[0m\u001b[0;34m\u001b[0m\u001b[0;34m\u001b[0m\u001b[0m\n\u001b[1;32m     16\u001b[0m         \u001b[0mtargets\u001b[0m \u001b[0;34m=\u001b[0m \u001b[0;34m[\u001b[0m\u001b[0;34m{\u001b[0m\u001b[0mk\u001b[0m\u001b[0;34m:\u001b[0m \u001b[0mv\u001b[0m\u001b[0;34m.\u001b[0m\u001b[0mto\u001b[0m\u001b[0;34m(\u001b[0m\u001b[0mdevice\u001b[0m\u001b[0;34m)\u001b[0m \u001b[0;32mfor\u001b[0m \u001b[0mk\u001b[0m\u001b[0;34m,\u001b[0m \u001b[0mv\u001b[0m \u001b[0;32min\u001b[0m \u001b[0mt\u001b[0m\u001b[0;34m.\u001b[0m\u001b[0mitems\u001b[0m\u001b[0;34m(\u001b[0m\u001b[0;34m)\u001b[0m\u001b[0;34m}\u001b[0m \u001b[0;32mfor\u001b[0m \u001b[0mt\u001b[0m \u001b[0;32min\u001b[0m \u001b[0mtargets\u001b[0m\u001b[0;34m]\u001b[0m\u001b[0;34m\u001b[0m\u001b[0;34m\u001b[0m\u001b[0m\n",
            "\u001b[0;32m/usr/local/lib/python3.10/dist-packages/torch/utils/data/dataloader.py\u001b[0m in \u001b[0;36m__next__\u001b[0;34m(self)\u001b[0m\n\u001b[1;32m    699\u001b[0m                 \u001b[0;31m# TODO(https://github.com/pytorch/pytorch/issues/76750)\u001b[0m\u001b[0;34m\u001b[0m\u001b[0;34m\u001b[0m\u001b[0m\n\u001b[1;32m    700\u001b[0m                 \u001b[0mself\u001b[0m\u001b[0;34m.\u001b[0m\u001b[0m_reset\u001b[0m\u001b[0;34m(\u001b[0m\u001b[0;34m)\u001b[0m  \u001b[0;31m# type: ignore[call-arg]\u001b[0m\u001b[0;34m\u001b[0m\u001b[0;34m\u001b[0m\u001b[0m\n\u001b[0;32m--> 701\u001b[0;31m             \u001b[0mdata\u001b[0m \u001b[0;34m=\u001b[0m \u001b[0mself\u001b[0m\u001b[0;34m.\u001b[0m\u001b[0m_next_data\u001b[0m\u001b[0;34m(\u001b[0m\u001b[0;34m)\u001b[0m\u001b[0;34m\u001b[0m\u001b[0;34m\u001b[0m\u001b[0m\n\u001b[0m\u001b[1;32m    702\u001b[0m             \u001b[0mself\u001b[0m\u001b[0;34m.\u001b[0m\u001b[0m_num_yielded\u001b[0m \u001b[0;34m+=\u001b[0m \u001b[0;36m1\u001b[0m\u001b[0;34m\u001b[0m\u001b[0;34m\u001b[0m\u001b[0m\n\u001b[1;32m    703\u001b[0m             if (\n",
            "\u001b[0;32m/usr/local/lib/python3.10/dist-packages/torch/utils/data/dataloader.py\u001b[0m in \u001b[0;36m_next_data\u001b[0;34m(self)\u001b[0m\n\u001b[1;32m    755\u001b[0m     \u001b[0;32mdef\u001b[0m \u001b[0m_next_data\u001b[0m\u001b[0;34m(\u001b[0m\u001b[0mself\u001b[0m\u001b[0;34m)\u001b[0m\u001b[0;34m:\u001b[0m\u001b[0;34m\u001b[0m\u001b[0;34m\u001b[0m\u001b[0m\n\u001b[1;32m    756\u001b[0m         \u001b[0mindex\u001b[0m \u001b[0;34m=\u001b[0m \u001b[0mself\u001b[0m\u001b[0;34m.\u001b[0m\u001b[0m_next_index\u001b[0m\u001b[0;34m(\u001b[0m\u001b[0;34m)\u001b[0m  \u001b[0;31m# may raise StopIteration\u001b[0m\u001b[0;34m\u001b[0m\u001b[0;34m\u001b[0m\u001b[0m\n\u001b[0;32m--> 757\u001b[0;31m         \u001b[0mdata\u001b[0m \u001b[0;34m=\u001b[0m \u001b[0mself\u001b[0m\u001b[0;34m.\u001b[0m\u001b[0m_dataset_fetcher\u001b[0m\u001b[0;34m.\u001b[0m\u001b[0mfetch\u001b[0m\u001b[0;34m(\u001b[0m\u001b[0mindex\u001b[0m\u001b[0;34m)\u001b[0m  \u001b[0;31m# may raise StopIteration\u001b[0m\u001b[0;34m\u001b[0m\u001b[0;34m\u001b[0m\u001b[0m\n\u001b[0m\u001b[1;32m    758\u001b[0m         \u001b[0;32mif\u001b[0m \u001b[0mself\u001b[0m\u001b[0;34m.\u001b[0m\u001b[0m_pin_memory\u001b[0m\u001b[0;34m:\u001b[0m\u001b[0;34m\u001b[0m\u001b[0;34m\u001b[0m\u001b[0m\n\u001b[1;32m    759\u001b[0m             \u001b[0mdata\u001b[0m \u001b[0;34m=\u001b[0m \u001b[0m_utils\u001b[0m\u001b[0;34m.\u001b[0m\u001b[0mpin_memory\u001b[0m\u001b[0;34m.\u001b[0m\u001b[0mpin_memory\u001b[0m\u001b[0;34m(\u001b[0m\u001b[0mdata\u001b[0m\u001b[0;34m,\u001b[0m \u001b[0mself\u001b[0m\u001b[0;34m.\u001b[0m\u001b[0m_pin_memory_device\u001b[0m\u001b[0;34m)\u001b[0m\u001b[0;34m\u001b[0m\u001b[0;34m\u001b[0m\u001b[0m\n",
            "\u001b[0;32m/usr/local/lib/python3.10/dist-packages/torch/utils/data/_utils/fetch.py\u001b[0m in \u001b[0;36mfetch\u001b[0;34m(self, possibly_batched_index)\u001b[0m\n\u001b[1;32m     50\u001b[0m                 \u001b[0mdata\u001b[0m \u001b[0;34m=\u001b[0m \u001b[0mself\u001b[0m\u001b[0;34m.\u001b[0m\u001b[0mdataset\u001b[0m\u001b[0;34m.\u001b[0m\u001b[0m__getitems__\u001b[0m\u001b[0;34m(\u001b[0m\u001b[0mpossibly_batched_index\u001b[0m\u001b[0;34m)\u001b[0m\u001b[0;34m\u001b[0m\u001b[0;34m\u001b[0m\u001b[0m\n\u001b[1;32m     51\u001b[0m             \u001b[0;32melse\u001b[0m\u001b[0;34m:\u001b[0m\u001b[0;34m\u001b[0m\u001b[0;34m\u001b[0m\u001b[0m\n\u001b[0;32m---> 52\u001b[0;31m                 \u001b[0mdata\u001b[0m \u001b[0;34m=\u001b[0m \u001b[0;34m[\u001b[0m\u001b[0mself\u001b[0m\u001b[0;34m.\u001b[0m\u001b[0mdataset\u001b[0m\u001b[0;34m[\u001b[0m\u001b[0midx\u001b[0m\u001b[0;34m]\u001b[0m \u001b[0;32mfor\u001b[0m \u001b[0midx\u001b[0m \u001b[0;32min\u001b[0m \u001b[0mpossibly_batched_index\u001b[0m\u001b[0;34m]\u001b[0m\u001b[0;34m\u001b[0m\u001b[0;34m\u001b[0m\u001b[0m\n\u001b[0m\u001b[1;32m     53\u001b[0m         \u001b[0;32melse\u001b[0m\u001b[0;34m:\u001b[0m\u001b[0;34m\u001b[0m\u001b[0;34m\u001b[0m\u001b[0m\n\u001b[1;32m     54\u001b[0m             \u001b[0mdata\u001b[0m \u001b[0;34m=\u001b[0m \u001b[0mself\u001b[0m\u001b[0;34m.\u001b[0m\u001b[0mdataset\u001b[0m\u001b[0;34m[\u001b[0m\u001b[0mpossibly_batched_index\u001b[0m\u001b[0;34m]\u001b[0m\u001b[0;34m\u001b[0m\u001b[0;34m\u001b[0m\u001b[0m\n",
            "\u001b[0;32m/usr/local/lib/python3.10/dist-packages/torch/utils/data/_utils/fetch.py\u001b[0m in \u001b[0;36m<listcomp>\u001b[0;34m(.0)\u001b[0m\n\u001b[1;32m     50\u001b[0m                 \u001b[0mdata\u001b[0m \u001b[0;34m=\u001b[0m \u001b[0mself\u001b[0m\u001b[0;34m.\u001b[0m\u001b[0mdataset\u001b[0m\u001b[0;34m.\u001b[0m\u001b[0m__getitems__\u001b[0m\u001b[0;34m(\u001b[0m\u001b[0mpossibly_batched_index\u001b[0m\u001b[0;34m)\u001b[0m\u001b[0;34m\u001b[0m\u001b[0;34m\u001b[0m\u001b[0m\n\u001b[1;32m     51\u001b[0m             \u001b[0;32melse\u001b[0m\u001b[0;34m:\u001b[0m\u001b[0;34m\u001b[0m\u001b[0;34m\u001b[0m\u001b[0m\n\u001b[0;32m---> 52\u001b[0;31m                 \u001b[0mdata\u001b[0m \u001b[0;34m=\u001b[0m \u001b[0;34m[\u001b[0m\u001b[0mself\u001b[0m\u001b[0;34m.\u001b[0m\u001b[0mdataset\u001b[0m\u001b[0;34m[\u001b[0m\u001b[0midx\u001b[0m\u001b[0;34m]\u001b[0m \u001b[0;32mfor\u001b[0m \u001b[0midx\u001b[0m \u001b[0;32min\u001b[0m \u001b[0mpossibly_batched_index\u001b[0m\u001b[0;34m]\u001b[0m\u001b[0;34m\u001b[0m\u001b[0;34m\u001b[0m\u001b[0m\n\u001b[0m\u001b[1;32m     53\u001b[0m         \u001b[0;32melse\u001b[0m\u001b[0;34m:\u001b[0m\u001b[0;34m\u001b[0m\u001b[0;34m\u001b[0m\u001b[0m\n\u001b[1;32m     54\u001b[0m             \u001b[0mdata\u001b[0m \u001b[0;34m=\u001b[0m \u001b[0mself\u001b[0m\u001b[0;34m.\u001b[0m\u001b[0mdataset\u001b[0m\u001b[0;34m[\u001b[0m\u001b[0mpossibly_batched_index\u001b[0m\u001b[0;34m]\u001b[0m\u001b[0;34m\u001b[0m\u001b[0;34m\u001b[0m\u001b[0m\n",
            "\u001b[0;32m<ipython-input-25-aa810122ad30>\u001b[0m in \u001b[0;36m__getitem__\u001b[0;34m(self, idx)\u001b[0m\n\u001b[1;32m      8\u001b[0m     \u001b[0;32mdef\u001b[0m \u001b[0m__getitem__\u001b[0m\u001b[0;34m(\u001b[0m\u001b[0mself\u001b[0m\u001b[0;34m,\u001b[0m \u001b[0midx\u001b[0m\u001b[0;34m)\u001b[0m\u001b[0;34m:\u001b[0m\u001b[0;34m\u001b[0m\u001b[0;34m\u001b[0m\u001b[0m\n\u001b[1;32m      9\u001b[0m         \u001b[0;31m# Load image\u001b[0m\u001b[0;34m\u001b[0m\u001b[0;34m\u001b[0m\u001b[0m\n\u001b[0;32m---> 10\u001b[0;31m         \u001b[0mimage_info\u001b[0m \u001b[0;34m=\u001b[0m \u001b[0mself\u001b[0m\u001b[0;34m.\u001b[0m\u001b[0mimages\u001b[0m\u001b[0;34m[\u001b[0m\u001b[0midx\u001b[0m\u001b[0;34m]\u001b[0m\u001b[0;34m\u001b[0m\u001b[0;34m\u001b[0m\u001b[0m\n\u001b[0m\u001b[1;32m     11\u001b[0m         \u001b[0mimage_path\u001b[0m \u001b[0;34m=\u001b[0m \u001b[0mos\u001b[0m\u001b[0;34m.\u001b[0m\u001b[0mpath\u001b[0m\u001b[0;34m.\u001b[0m\u001b[0mjoin\u001b[0m\u001b[0;34m(\u001b[0m\u001b[0mself\u001b[0m\u001b[0;34m.\u001b[0m\u001b[0mroot_dir\u001b[0m\u001b[0;34m,\u001b[0m \u001b[0mimage_info\u001b[0m\u001b[0;34m[\u001b[0m\u001b[0;34m'file_name'\u001b[0m\u001b[0;34m]\u001b[0m\u001b[0;34m)\u001b[0m\u001b[0;34m\u001b[0m\u001b[0;34m\u001b[0m\u001b[0m\n\u001b[1;32m     12\u001b[0m         \u001b[0mimage\u001b[0m \u001b[0;34m=\u001b[0m \u001b[0mImage\u001b[0m\u001b[0;34m.\u001b[0m\u001b[0mopen\u001b[0m\u001b[0;34m(\u001b[0m\u001b[0mimage_path\u001b[0m\u001b[0;34m)\u001b[0m\u001b[0;34m.\u001b[0m\u001b[0mconvert\u001b[0m\u001b[0;34m(\u001b[0m\u001b[0;34m\"L\"\u001b[0m\u001b[0;34m)\u001b[0m  \u001b[0;31m# Grayscale\u001b[0m\u001b[0;34m\u001b[0m\u001b[0;34m\u001b[0m\u001b[0m\n",
            "\u001b[0;31mAttributeError\u001b[0m: 'COCODataset' object has no attribute 'images'"
          ]
        }
      ]
    },
    {
      "cell_type": "code",
      "source": [],
      "metadata": {
        "id": "mjvX4hxCWZ1R"
      },
      "execution_count": null,
      "outputs": []
    }
  ]
}